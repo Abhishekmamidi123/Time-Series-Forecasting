{
 "cells": [
  {
   "cell_type": "markdown",
   "metadata": {},
   "source": [
    "## Analysis\n",
    "- Seasons of interest - June, July, August, September.\n",
    "- Districts of interest - Kolhapur, Latur\n",
    "\n",
    "- A new LSTM model to predict rainfall."
   ]
  },
  {
   "cell_type": "markdown",
   "metadata": {},
   "source": [
    "### Import libraries"
   ]
  },
  {
   "cell_type": "code",
   "execution_count": 2,
   "metadata": {},
   "outputs": [
    {
     "data": {
      "text/html": [
       "<script>requirejs.config({paths: { 'plotly': ['https://cdn.plot.ly/plotly-latest.min']},});if(!window.Plotly) {{require(['plotly'],function(plotly) {window.Plotly=plotly;});}}</script>"
      ],
      "text/vnd.plotly.v1+html": [
       "<script>requirejs.config({paths: { 'plotly': ['https://cdn.plot.ly/plotly-latest.min']},});if(!window.Plotly) {{require(['plotly'],function(plotly) {window.Plotly=plotly;});}}</script>"
      ]
     },
     "metadata": {},
     "output_type": "display_data"
    }
   ],
   "source": [
    "import warnings\n",
    "warnings.filterwarnings('ignore')\n",
    "\n",
    "import os\n",
    "import shutil\n",
    "import numpy as np\n",
    "import pandas as pd\n",
    "import seaborn as sns\n",
    "import plotly.graph_objs as go\n",
    "import plotly.offline as py\n",
    "import matplotlib\n",
    "import matplotlib.pyplot as plt\n",
    "from mpl_toolkits.basemap import Basemap\n",
    "import matplotlib.pyplot as plt\n",
    "from matplotlib.patches import Polygon\n",
    "import matplotlib.patches as mpatches \n",
    "from matplotlib.collections import PatchCollection\n",
    "import plotly.figure_factory as ff\n",
    "from IPython.display import HTML, display\n",
    "from IPython.core import display as ICD\n",
    "from plotly.offline import init_notebook_mode, iplot\n",
    "init_notebook_mode(connected=True)\n",
    "\n",
    "import Artificial_Neural_Networks as ANN\n",
    "import ARIMA\n",
    "\n",
    "import math\n",
    "from itertools import groupby\n",
    "%matplotlib inline\n",
    "from keras.layers.convolutional import Conv1D\n",
    "from keras.layers.convolutional import MaxPooling1D\n",
    "from keras.utils import plot_model\n",
    "from keras.layers import Conv2D, MaxPooling2D, Flatten\n",
    "from keras.layers import Input, LSTM, Embedding, Dense\n",
    "from keras.models import Model, Sequential\n",
    "from keras.layers.merge import concatenate\n",
    "from keras.callbacks import ModelCheckpoint\n",
    "from sklearn.preprocessing import MinMaxScaler\n",
    "from sklearn.model_selection import train_test_split\n",
    "from sklearn.metrics import mean_squared_error\n",
    "from IPython.display import SVG\n",
    "from keras.utils.vis_utils import model_to_dot\n",
    "from keras.models import model_from_json\n",
    "\n",
    "from importlib import reload\n",
    "import itertools"
   ]
  },
  {
   "cell_type": "markdown",
   "metadata": {},
   "source": [
    "### Useful functions"
   ]
  },
  {
   "cell_type": "code",
   "execution_count": null,
   "metadata": {},
   "outputs": [],
   "source": [
    "from sklearn.metrics import mean_squared_error\n",
    "from sklearn.metrics import mean_absolute_error\n",
    "\n",
    "def mean_absolute_percentage_error(y_true, y_pred): \n",
    "    y_true, y_pred = np.array(y_true), np.array(y_pred)\n",
    "    return np.mean(np.abs((y_true - y_pred) / y_true)) * 100\n",
    "\n",
    "def root_mean_squared_error(y_true, y_pred):\n",
    "    mse = mean_squared_error(y_true, y_pred)\n",
    "    rmse = np.sqrt(mse)\n",
    "    return rmse\n",
    "\n",
    "def calculate_performance(y_true, y_pred):\n",
    "    mse = mean_squared_error(y_true, y_pred)\n",
    "    mae = mean_absolute_error(y_true, y_pred)\n",
    "    mape = mean_absolute_percentage_error(y_true, y_pred)\n",
    "    rmse = root_mean_squared_error(y_true, y_pred)\n",
    "    return round(mse, 3), round(mae, 3), round(mape, 3), round(rmse, 3)"
   ]
  },
  {
   "cell_type": "markdown",
   "metadata": {},
   "source": [
    "### Dataset"
   ]
  },
  {
   "cell_type": "code",
   "execution_count": null,
   "metadata": {},
   "outputs": [],
   "source": [
    "PATH = 'Dataset/rainfall_data_1901_to_2002.xlsx'\n",
    "data = pd.read_excel(PATH)"
   ]
  },
  {
   "cell_type": "markdown",
   "metadata": {},
   "source": [
    "### Preprocess data"
   ]
  },
  {
   "cell_type": "code",
   "execution_count": null,
   "metadata": {},
   "outputs": [],
   "source": [
    "data = data.drop(columns='vlookup')\n",
    "data = data[data['Year'].notnull()]\n",
    "data['Year'] = data.Year.astype('int')\n",
    "data.index = range(len(data))\n",
    "\n",
    "m_data = data[data['State'] == 'Maharashtra']\n",
    "m_data = m_data.drop(columns='State')\n",
    "\n",
    "districts = m_data.District.unique()\n",
    "years = list(range(1901, 2003))\n",
    "months = data.columns[3:]\n",
    "year_month = [str(year) + '_' + month for year in years for month in months]\n",
    "dates = pd.date_range(start='1901-01', freq='MS', periods=len(years)*12)\n",
    "\n",
    "maharashtra_data = pd.DataFrame({'Year_Month': year_month})\n",
    "maharashtra_data['Date'] = dates\n",
    "maharashtra_data[['Year', 'Month']] = maharashtra_data['Year_Month'].str.split('_', n=1, expand=True)\n",
    "maharashtra_data = maharashtra_data.drop(columns=['Year_Month'])\n",
    "\n",
    "for district in districts:\n",
    "    df = m_data[m_data.District == district].drop(columns=['District', 'Year'])\n",
    "    df = df.as_matrix().reshape((len(years) * len(months), 1))[:,0]\n",
    "    maharashtra_data[district] = df\n",
    "\n",
    "maharashtra_data.head()"
   ]
  },
  {
   "cell_type": "code",
   "execution_count": null,
   "metadata": {},
   "outputs": [],
   "source": [
    "m_data = maharashtra_data.copy()"
   ]
  },
  {
   "cell_type": "code",
   "execution_count": null,
   "metadata": {},
   "outputs": [],
   "source": [
    "m_data.head()"
   ]
  },
  {
   "cell_type": "markdown",
   "metadata": {},
   "source": [
    "### Useful functions"
   ]
  },
  {
   "cell_type": "code",
   "execution_count": null,
   "metadata": {},
   "outputs": [],
   "source": [
    "def get_combinations(parameters):\n",
    "    return list(itertools.product(*parameters))"
   ]
  },
  {
   "cell_type": "code",
   "execution_count": null,
   "metadata": {},
   "outputs": [],
   "source": [
    "def get_latest_file(path):\n",
    "    files = os.listdir(path)\n",
    "    paths = [os.path.join(path, basename) for basename in files]\n",
    "    return max(paths, key=os.path.getctime)"
   ]
  },
  {
   "cell_type": "code",
   "execution_count": null,
   "metadata": {},
   "outputs": [],
   "source": [
    "def LSTM_model(num_of_previous_months, hidden_nodes_months, \n",
    "               num_of_previous_years, hidden_nodes_years, output_nodes):\n",
    "    \n",
    "    visible1 = Input((num_of_previous_months, 1))\n",
    "#     visible1 = Input((1, num_of_previous_months))\n",
    "    extract1 = LSTM(hidden_nodes_months, activation='relu')(visible1)\n",
    "\n",
    "    visible2 = Input((num_of_previous_years, 1))\n",
    "#     visible2 = Input((1, num_of_previous_years))\n",
    "    extract2 = LSTM(hidden_nodes_years, activation='relu')(visible2)\n",
    "\n",
    "    merge = concatenate([extract1, extract2])\n",
    "    output = Dense(output_nodes)(merge)\n",
    "    \n",
    "    model = Model(inputs = [visible1, visible2], outputs = output)\n",
    "    model.compile(loss='mean_squared_error', optimizer='adam')\n",
    "    \n",
    "    plot_model(model, 'Functional_LSTM.png', show_shapes=True, show_layer_names=True)\n",
    "    \n",
    "    return model"
   ]
  },
  {
   "cell_type": "code",
   "execution_count": null,
   "metadata": {},
   "outputs": [],
   "source": [
    "def preprocess_data(m_data, district, month, num_of_prev_months, num_of_prev_years):\n",
    "    \n",
    "#     rainfall_season_data = m_data[['Date', 'Year', 'Month'] + districts_of_interest]\n",
    "    rainfall_data = m_data[['Date', 'Year', 'Month', district]]\n",
    "    month_data = rainfall_data[rainfall_data.Month == month]\n",
    "    \n",
    "    start_year = int(rainfall_data.Year.min())\n",
    "    last_year = int(rainfall_data.Year.max())\n",
    "    current_year = start_year + num_of_previous_years\n",
    "    month_data_index = month_data.index\n",
    "    \n",
    "    train_data_input_1 = []\n",
    "    for index in month_data_index[num_of_previous_years:]:\n",
    "        data = list(rainfall_data.iloc[index - num_of_previous_months:index][district])\n",
    "        train_data_input_1.append(data)\n",
    "    train_data_input_1 = np.array(train_data_input_1)\n",
    "    shape = train_data_input_1.shape\n",
    "    train_data_input_1 = train_data_input_1.reshape(shape[0], shape[1], 1)\n",
    "#     train_data_input_1 = train_data_input_1.reshape(shape[0], 1, shape[1])\n",
    "    \n",
    "    month_data_prep = list(month_data[district])\n",
    "    train_data_input_2 = []\n",
    "    for i in range(0, len(month_data_prep) - num_of_previous_years):\n",
    "        data = month_data_prep[i:i+num_of_previous_years]\n",
    "        train_data_input_2.append(data)\n",
    "    train_data_input_2 = np.array(train_data_input_2)\n",
    "    shape = train_data_input_2.shape\n",
    "    train_data_input_2 = train_data_input_2.reshape(shape[0], shape[1], 1)\n",
    "#     train_data_input_2 = train_data_input_2.reshape(shape[0], 1, shape[1])\n",
    "    \n",
    "    y_train = list(month_data.iloc[num_of_previous_years:][district])\n",
    "    y_train = np.array(y_train)\n",
    "    y_train = np.reshape(y_train, (y_train.shape[0], 1))\n",
    "    \n",
    "    return train_data_input_1, train_data_input_2, y_train"
   ]
  },
  {
   "cell_type": "code",
   "execution_count": null,
   "metadata": {},
   "outputs": [],
   "source": [
    "def split_and_train_LSTM(model, input_1, input_2, y_train_main, future_steps, epochs, batch_size):\n",
    "    X_train_input_1, X_test_input_1, y_train, y_test = train_test_split(input_1, y_train_main, \n",
    "                                                                    test_size=future_steps, random_state=42)\n",
    "    X_train_input_2, X_test_input_2, y_train, y_test = train_test_split(input_2, y_train_main, \n",
    "                                                                    test_size=future_steps, random_state=42)\n",
    "    \n",
    "    print(X_train_input_1.shape)\n",
    "    print(X_train_input_2.shape)\n",
    "    \n",
    "    SOURCE_PATH = 'Models/'\n",
    "    checkpoint = ModelCheckpoint(SOURCE_PATH + 'model-{epoch:03d}.h5', verbose=1, monitor='val_loss',save_best_only=True, mode='auto')  \n",
    "    \n",
    "    model.fit([X_train_input_1, X_train_input_2], y_train, epochs=epochs, batch_size=batch_size, verbose=1, shuffle=True, validation_split=0.1, callbacks=[checkpoint])\n",
    "    \n",
    "    file_name = get_latest_file(SOURCE_PATH)\n",
    "    model.load_weights(file_name)\n",
    "    os.system('rm -rf %s/*' % SOURCE_PATH)\n",
    "    \n",
    "    return model, X_test_input_1, X_test_input_2, y_test"
   ]
  },
  {
   "cell_type": "code",
   "execution_count": null,
   "metadata": {},
   "outputs": [],
   "source": [
    "def predict_LSTM(model, X_test_input_1, X_test_input_2):\n",
    "    y_pred = model.predict([X_test_input_1, X_test_input_2])\n",
    "    return y_pred"
   ]
  },
  {
   "cell_type": "code",
   "execution_count": null,
   "metadata": {},
   "outputs": [],
   "source": [
    "def Long_Short_Term_Memory(data, district, month, num_of_prev_months, num_of_prev_years, hidden_nodes_months, hidden_nodes_years, epochs, batch_size, future_steps):\n",
    "    model = LSTM_model(num_of_prev_months, hidden_nodes_months, num_of_prev_years, hidden_nodes_years, output_nodes)\n",
    "    train_data_input_1, train_data_input_2, y_train_main = preprocess_data(m_data, district, month, num_of_prev_months, num_of_prev_years)\n",
    "    model, X_test_input_1, X_test_input_2, y_test = split_and_train_LSTM(model, train_data_input_1, train_data_input_2, y_train_main, future_steps, epochs, batch_size)\n",
    "    \n",
    "    y_pred = predict_LSTM(model, X_test_input_1, X_test_input_2)\n",
    "    return model, y_test, y_pred"
   ]
  },
  {
   "cell_type": "code",
   "execution_count": null,
   "metadata": {},
   "outputs": [],
   "source": [
    "def find_best_method_LSTM(parameters_LSTM, m_data, district, month):\n",
    "    combination_of_params = get_combinations(parameters_LSTM)\n",
    "    information_LSTM = []\n",
    "    iterator = 0\n",
    "    \n",
    "    for param in combination_of_params:\n",
    "        if (iterator+1) != len(combination_of_params):\n",
    "            print(iterator+1, end=' -> ')\n",
    "        else:\n",
    "            print(iterator+1)\n",
    "        iterator = iterator+1\n",
    "        \n",
    "        num_of_previous_months = param[0]\n",
    "        num_of_previous_years = param[1]\n",
    "        hidden_nodes_months = param[2]\n",
    "        hidden_nodes_years = param[3]\n",
    "        epochs = param[4]\n",
    "        batch_size = param[5]\n",
    "        future_steps = param[6]\n",
    "        \n",
    "        model_LSTM, y_test, y_pred = Long_Short_Term_Memory(m_data, district, month, num_of_previous_months, num_of_previous_years,\n",
    "                  hidden_nodes_months, hidden_nodes_years, epochs, batch_size, future_steps)\n",
    "        \n",
    "        mse, mae, mape, rmse = calculate_performance(y_test, y_pred)\n",
    "        \n",
    "        info = list(param) + [mse, mae, rmse, mape] + y_pred\n",
    "        information_LSTM.append(info)\n",
    "        \n",
    "    information_LSTM_df = pd.DataFrame(information_LSTM)\n",
    "    indexes = [str(i) for i in list(range(1, future_steps+1))]\n",
    "    information_LSTM_df.columns = ['Num of previous months', 'Num of previous years', 'Hidden nodes months', \n",
    "                                   'Hidden nodes years', 'epochs', 'batch_size', 'future_steps', \n",
    "                                   'MSE', 'MAE', 'RMSE', 'MAPE'] + indexes\n",
    "    return information_LSTM_df"
   ]
  },
  {
   "cell_type": "code",
   "execution_count": null,
   "metadata": {},
   "outputs": [],
   "source": []
  },
  {
   "cell_type": "code",
   "execution_count": null,
   "metadata": {},
   "outputs": [],
   "source": [
    "future_steps = 10\n",
    "\n",
    "# number_of_previous_months, number_of_previous_years, hidden_nodes_months, hidden_nodes_years, epochs, batch_size, future_steps\n",
    "parameters_LSTM = [[4,8,12], [4,6,8], [6,8,10,12], [5,7,8], [250], [10], [future_steps]]\n",
    "parameters_LSTM = [[4], [4], [6], [5], [250], [10], [future_steps]]"
   ]
  },
  {
   "cell_type": "code",
   "execution_count": null,
   "metadata": {
    "scrolled": true
   },
   "outputs": [],
   "source": [
    "# model, y_pred = Long_Short_Term_Memory(m_data, district, month, num_of_previous_months, num_of_previous_years,\n",
    "#                       hidden_nodes_months, hidden_nodes_years, 250, 10, future_steps)"
   ]
  },
  {
   "cell_type": "code",
   "execution_count": null,
   "metadata": {},
   "outputs": [],
   "source": [
    "districts_of_interest = ['Kolhapur', 'Latur']\n",
    "months_of_interest = ['Jun', 'Jul', 'Aug', 'Sep']"
   ]
  },
  {
   "cell_type": "code",
   "execution_count": null,
   "metadata": {},
   "outputs": [],
   "source": [
    "STORAGE_FOLDER = 'State_predictions_new_LSTM'\n",
    "for district in districts_of_interest:\n",
    "    for month in months_of_interest:\n",
    "        find_best_method_LSTM(parameters_LSTM, m_data, district, month)\n",
    "        break\n",
    "    break"
   ]
  },
  {
   "cell_type": "code",
   "execution_count": null,
   "metadata": {},
   "outputs": [],
   "source": []
  },
  {
   "cell_type": "code",
   "execution_count": null,
   "metadata": {},
   "outputs": [],
   "source": []
  },
  {
   "cell_type": "code",
   "execution_count": null,
   "metadata": {},
   "outputs": [],
   "source": []
  }
 ],
 "metadata": {
  "kernelspec": {
   "display_name": "Python 3",
   "language": "python",
   "name": "python3"
  },
  "language_info": {
   "codemirror_mode": {
    "name": "ipython",
    "version": 3
   },
   "file_extension": ".py",
   "mimetype": "text/x-python",
   "name": "python",
   "nbconvert_exporter": "python",
   "pygments_lexer": "ipython3",
   "version": "3.5.2"
  }
 },
 "nbformat": 4,
 "nbformat_minor": 2
}
